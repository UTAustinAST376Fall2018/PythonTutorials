{
 "cells": [
  {
   "cell_type": "markdown",
   "metadata": {},
   "source": [
    "# TAURUS 2018\n",
    "# Introduction to Python Day 2\n",
    "# If Statements, For Loops, Functions & Plotting\n",
    "\n",
    "Welcome back! By now you should be comfortable with some basic Python syntax. Let's get into something a bit more interesting today: control structure! This allows you to actually build up your code.\n",
    "\n",
    "Today we will go over if statements, for loops, and functions, and then we will do a debugging exercise.\n",
    "\n",
    "First let's import some stuff we'll need today: numpy and matplotlib."
   ]
  },
  {
   "cell_type": "code",
   "execution_count": 1,
   "metadata": {
    "collapsed": true
   },
   "outputs": [],
   "source": [
    "import numpy as np\n",
    "import matplotlib.pyplot as plt\n",
    "\n",
    "% matplotlib inline"
   ]
  },
  {
   "cell_type": "markdown",
   "metadata": {},
   "source": [
    "## If statement\n",
    "\n",
    "This is a conditional statement where the code will proceed only if the condition is met. Otherwise, the code will stop, or move on to the next condition.\n",
    "\n",
    "The simplest if statement is a true/false boolean, but you can impose any of the conditions that we learned yesterday. \n",
    "\n",
    "Remember that '==' is the equivalence condition, while '=' is a definition.\n",
    "\n",
    "The syntax is the following:\n",
    "\n",
    "    if condition is met:\n",
    "        do something\n",
    "        \n",
    "If you want to give the code a different option, use 'else'.\n",
    "\n",
    "    if condition is met:\n",
    "        do something\n",
    "    else:\n",
    "        do a different thing\n",
    "        \n",
    "Thus, the code will only move to 'else' if the first coniditon is false. To include multiple options, use 'elif', short for 'else if'. \n",
    "\n",
    "    if condition is met:\n",
    "        do something\n",
    "    elif different condition is met:\n",
    "        do something else\n",
    "    else:\n",
    "        do another thing\n",
    "        \n",
    "### Question 1: Try a simple one: if 1 equals 1, print \"yes!\" Write a second one such that if one does not equal one, print \"no!\" What happens?"
   ]
  },
  {
   "cell_type": "code",
   "execution_count": 2,
   "metadata": {},
   "outputs": [
    {
     "name": "stdout",
     "output_type": "stream",
     "text": [
      "yes!\n"
     ]
    }
   ],
   "source": [
    "# solution here\n",
    "\n",
    "if 1 == 1:\n",
    "    print('yes!')\n",
    "    \n",
    "if 1 != 1:\n",
    "    print('no!')"
   ]
  },
  {
   "cell_type": "code",
   "execution_count": 3,
   "metadata": {},
   "outputs": [
    {
     "name": "stdout",
     "output_type": "stream",
     "text": [
      "1 always equals 1, duh\n"
     ]
    }
   ],
   "source": [
    "if 1 != 1:\n",
    "    print('yes!')\n",
    "else:\n",
    "    print('1 always equals 1, duh')"
   ]
  },
  {
   "cell_type": "markdown",
   "metadata": {},
   "source": [
    "You probably noticed that the code stopped. If we don't want the code to stop, we would put in an else statement. Try it again: \n",
    "\n",
    "### Change your if statement from above. If one does not equal one, print \"yes!\" If that's not true, print \"1 always equals 1, duh.\" \n",
    "\n",
    "### Question 2: Let's review some boolean logic. Go ahead and define that b = 10. Write an if statement that checks that b is equal to 10 or 2, and if so, print the value of b."
   ]
  },
  {
   "cell_type": "code",
   "execution_count": 4,
   "metadata": {},
   "outputs": [
    {
     "name": "stdout",
     "output_type": "stream",
     "text": [
      "10.0\n"
     ]
    }
   ],
   "source": [
    "# solution here\n",
    "\n",
    "b = 10.\n",
    "\n",
    "if b == 10 or b == 2:\n",
    "    print(b)"
   ]
  },
  {
   "cell_type": "markdown",
   "metadata": {},
   "source": [
    "Like we mentioned yesterday, the syntax of arrays and indices can all be combined. \n",
    "\n",
    "### Question 3: Create a linear array with 10 values between 0 and 1, inclusive.  Write an if statement that checks whether the last entry in the array is less than one. If so, have it print out the last entry. If not, have it print out \"[last entry] is not less than one.\" \n",
    "\n"
   ]
  },
  {
   "cell_type": "code",
   "execution_count": 5,
   "metadata": {},
   "outputs": [
    {
     "name": "stdout",
     "output_type": "stream",
     "text": [
      "(1.0, 'is not less than 1')\n"
     ]
    }
   ],
   "source": [
    "# solution here\n",
    "\n",
    "linarray = np.linspace(0, 1, 10)\n",
    "last_val = linarray[-1]\n",
    "\n",
    "if linarray[-1] < 1:\n",
    "    print(linarray[-1])\n",
    "else:\n",
    "    print(linarray[-1], \"is not less than 1\")"
   ]
  },
  {
   "cell_type": "markdown",
   "metadata": {},
   "source": [
    "## For loops\n",
    "\n",
    "For loops allow you to loop through the values in an array and perform some operation or check a condition. The basic syntax is \"for x in y.\" \n",
    "\n",
    "    for x in y:\n",
    "        do something\n",
    "        \n",
    "\"X\" refers to the element within \"Y\", so \"X\" can be any random character, but \"Y\" refers to the array or list you're looping over. \n",
    "\n",
    "### Question 4: Here's a list. Try writing a for loop that prints out each element of the list individually.\n",
    "\n"
   ]
  },
  {
   "cell_type": "code",
   "execution_count": 6,
   "metadata": {},
   "outputs": [
    {
     "name": "stdout",
     "output_type": "stream",
     "text": [
      "Shrek\n",
      "Donkey\n",
      "Fiona\n",
      "Lord Farquaad\n",
      "Shrek\n",
      "Donkey\n",
      "Fiona\n",
      "Lord Farquaad\n"
     ]
    }
   ],
   "source": [
    "#beemovie = ['Barry B. Benson', 'Vanessa Bloome', 'Ray Liotta as Ray Liotta']\n",
    "\n",
    "shrek = ['Shrek', 'Donkey', 'Fiona', 'Lord Farquaad']\n",
    "\n",
    "y = shrek\n",
    "\n",
    "for x in y:\n",
    "    print(x)\n",
    "    \n",
    "    \n",
    "for character in shrek:\n",
    "    print(character)\n",
    "#solution here"
   ]
  },
  {
   "cell_type": "markdown",
   "metadata": {},
   "source": [
    "Another way to write a for loop is to loop over the indices. This allows you, for instance, to index multiple arrays, or to keep track of both the index and the value of an array. You'll see what I mean in a minute. If you do it this way, the syntax goes like this:\n",
    "\n",
    "    for i in range(len(array)):\n",
    "        do something to array[i]\n",
    "        \n",
    "Now \"i\" is the index value rather than the value of the array. Here's an example:"
   ]
  },
  {
   "cell_type": "code",
   "execution_count": 7,
   "metadata": {},
   "outputs": [
    {
     "name": "stdout",
     "output_type": "stream",
     "text": [
      "('a =', 0.0)\n",
      "('a =', 0.5)\n",
      "('a =', 1.0)\n",
      "('a =', 1.5)\n",
      "('a =', 2.0)\n",
      "('a =', 2.5)\n",
      "('a =', 3.0)\n",
      "('a =', 3.5)\n",
      "('a =', 4.0)\n",
      "('a =', 4.5)\n",
      "('a =', 5.0)\n",
      "('a =', 5.5)\n",
      "('a =', 6.0)\n",
      "('a =', 6.5)\n",
      "('a =', 7.0)\n",
      "('a =', 7.5)\n",
      "('a =', 8.0)\n",
      "('a =', 8.5)\n",
      "('a =', 9.0)\n",
      "('a =', 9.5)\n",
      "('a =', 10.0)\n",
      "('the', 0, 'th value of array is', 0.0)\n",
      "('the', 1, 'th value of array is', 0.5)\n",
      "('the', 2, 'th value of array is', 1.0)\n",
      "('the', 3, 'th value of array is', 1.5)\n",
      "('the', 4, 'th value of array is', 2.0)\n",
      "('the', 5, 'th value of array is', 2.5)\n",
      "('the', 6, 'th value of array is', 3.0)\n",
      "('the', 7, 'th value of array is', 3.5)\n",
      "('the', 8, 'th value of array is', 4.0)\n",
      "('the', 9, 'th value of array is', 4.5)\n",
      "('the', 10, 'th value of array is', 5.0)\n",
      "('the', 11, 'th value of array is', 5.5)\n",
      "('the', 12, 'th value of array is', 6.0)\n",
      "('the', 13, 'th value of array is', 6.5)\n",
      "('the', 14, 'th value of array is', 7.0)\n",
      "('the', 15, 'th value of array is', 7.5)\n",
      "('the', 16, 'th value of array is', 8.0)\n",
      "('the', 17, 'th value of array is', 8.5)\n",
      "('the', 18, 'th value of array is', 9.0)\n",
      "('the', 19, 'th value of array is', 9.5)\n",
      "('the', 20, 'th value of array is', 10.0)\n"
     ]
    }
   ],
   "source": [
    "array = np.linspace(0, 10, 21)\n",
    "\n",
    "for a in array:\n",
    "    print(\"a =\", a)\n",
    "\n",
    "for a in range(len(array)):\n",
    "    print(\"the\", a, \"th value of array is\", array[a])"
   ]
  },
  {
   "cell_type": "markdown",
   "metadata": {},
   "source": [
    "Combo time! You can also embed if statements into for loops, which checks the conditional statement for every value of the array. \n",
    "\n",
    "### Question 5. Create an array containing the values 0.5, 2, 3, 7. Write three different conditional statements inside the for loop:  check whether the value + 2 a) is less than 5, b) equal to 5, or c) greater than 5. If so, print out that statement (i.e., 'x + 2 < 5'). \n",
    "\n"
   ]
  },
  {
   "cell_type": "code",
   "execution_count": 8,
   "metadata": {},
   "outputs": [
    {
     "name": "stdout",
     "output_type": "stream",
     "text": [
      "(0.5, '+2 < 5')\n",
      "(2.0, '+2 < 5')\n",
      "(3.0, '+ 2 = 5')\n",
      "(7.0, '+ 2 > 5')\n"
     ]
    }
   ],
   "source": [
    "#solution here\n",
    "\n",
    "myarray = np.array([0.5, 2, 3, 7])\n",
    "\n",
    "for a in myarray:\n",
    "    if a + 2 < 5:\n",
    "        print(a, \"+2 < 5\")\n",
    "    elif a + 2 == 5:\n",
    "        print(a, \"+ 2 = 5\")\n",
    "    else:\n",
    "        print(a, \"+ 2 > 5\")\n"
   ]
  },
  {
   "cell_type": "markdown",
   "metadata": {},
   "source": [
    "### Exercise\n",
    "\n",
    "    1. Create an array containing the values 4, 0, 6, 5, 11, 14, 12, 14, 5, 16.\n",
    "    2. Create a 2x10 array of zeros.\n",
    "    2. Write a for loop that checks if each of the numbers in the first array squared is less than 100. \n",
    "    3. If the statement is true, change that row of your zeros array to equal the number and its square. Hint: you can change the value of an array by stating \"zerosarray[i] = [a number, a number squared]\". \n",
    "    4. Print out the final version of your zeros array.\n",
    "    \n",
    "Hint: should you loop over the elements of the array or the indices of the array?\n",
    "    \n"
   ]
  },
  {
   "cell_type": "code",
   "execution_count": 9,
   "metadata": {},
   "outputs": [
    {
     "name": "stdout",
     "output_type": "stream",
     "text": [
      "[[  4.  16.]\n",
      " [  0.   0.]\n",
      " [  6.  36.]\n",
      " [  5.  25.]\n",
      " [  0.   0.]\n",
      " [  0.   0.]\n",
      " [  0.   0.]\n",
      " [  0.   0.]\n",
      " [  5.  25.]\n",
      " [  0.   0.]]\n"
     ]
    }
   ],
   "source": [
    "# solution here\n",
    "\n",
    "array = np.array([4, 0, 6, 5, 11, 14, 12, 14, 5, 16])\n",
    "zerosarr =  np.zeros((10, 2))\n",
    "\n",
    "for a in range(len(array)):\n",
    "    if array[a]**2 < 100:\n",
    "        zerosarr[a] = [array[a], array[a]**2]\n",
    "        \n",
    "print(zerosarr)"
   ]
  },
  {
   "cell_type": "markdown",
   "metadata": {},
   "source": [
    "## User-defined functions\n",
    "\n",
    "This is where the true programming comes in. Basically any code you write will be a series of functions that accomplish some task. Functions include mathematical expressions, list/array sorting, MCMC codes, statistical operations, and many more. \n",
    "\n",
    "The syntax goes like this:\n",
    "\n",
    "    def function(a, b, c):\n",
    "        do something\n",
    "        return something\n",
    "    \n",
    "First you define the function using \"def\". The definition of the function includes the name of the function, which you will use to call it, and the arguments required for the function to work. You should leave the arguments as variables, and you will give the variables values when you call the function.\n",
    "\n",
    "Inside the function, some operation will be performed on the variables you've provided. However, the function won't actually give you any output unless you use return. Return tells the function what to give you back.\n",
    "\n",
    "Here's an example:"
   ]
  },
  {
   "cell_type": "code",
   "execution_count": 10,
   "metadata": {
    "collapsed": true
   },
   "outputs": [],
   "source": [
    "def line(m, b, x):\n",
    "    y = m * x + b\n",
    "    return y"
   ]
  },
  {
   "cell_type": "markdown",
   "metadata": {},
   "source": [
    "Now, to run the function, you can supply values for the arguments. You can feed the function an array as well.\n",
    "\n"
   ]
  },
  {
   "cell_type": "code",
   "execution_count": 11,
   "metadata": {
    "collapsed": true
   },
   "outputs": [],
   "source": [
    "one_value = line(1, 2, 3)\n",
    "array_of_values = line(1, 2, np.linspace(0, 5, 100))\n",
    "\n",
    "#print(one_value, array_of_values)"
   ]
  },
  {
   "cell_type": "markdown",
   "metadata": {},
   "source": [
    "### Question 6: Write a function that takes the y-intercept, x value, and a constant m for a quadratic curve of the form y = mx^2 + b."
   ]
  },
  {
   "cell_type": "code",
   "execution_count": 12,
   "metadata": {
    "collapsed": true
   },
   "outputs": [],
   "source": [
    "#solution here\n",
    "\n",
    "def quad(m, b, x):\n",
    "    return m * x**2 +b\n",
    "\n"
   ]
  },
  {
   "cell_type": "markdown",
   "metadata": {},
   "source": [
    "## Plotting!\n",
    "\n",
    "You will probably spend the majority of your time in astronomy making pretty plots so let's explore that now! You will need to use matplotlib.pyplot, which most people import at plt.\n",
    "\n",
    "The only required arguments are x-values and y-values, and anything else is #aesthetic.\n",
    "\n",
    "So the syntax is like this:\n",
    "\n",
    "    plt.plot(x, y, kwargs)\n",
    "    \n",
    "You can also do a log10 plot using plt.loglog().\n",
    "\n",
    "Some of the customizations include:\n",
    "\n",
    "    markerstyle: o (circles), ^ (triangles), * (stars), . (small points), etc\n",
    "    linestyle: - (solid line), -- (dotted line), : (fine dotted line), etc\n",
    "    color: b (blue), r (red), c (cyan), m (magenta), y (yellow), k (black), g (green), etc\n",
    "    alpha: opacity, a float set between 0 and 1\n",
    "    label: name of that dataset to be used in the legend\n",
    "    \n",
    "Every keyword argument besides alpha should be given as a string.\n",
    "    \n",
    "After plt.plot(), you might want to add some other information.\n",
    "\n",
    "    plt.xlabel() - x axis label\n",
    "    plt.ylabel() - y axis label\n",
    "    plt.axis([]) - in the brackets list x_lowerlimit, x_upperlimit, y_lowerlimit, y_upperlimit for axis display\n",
    "    plt.title() - plot title\n",
    "    plt.show() - displays your plot\n",
    "    \n",
    "Here's a detailed example. By the way, you can use shorthand for the marker/line style and the color, so instead of typing out \"markerstyle=blah, color=blah\", it will also understand simply \"ob\" (blue circles).\n",
    "\n",
    "Also, for labeling purposes, you can use Greek letters the same way as in LaTeX."
   ]
  },
  {
   "cell_type": "code",
   "execution_count": 13,
   "metadata": {},
   "outputs": [
    {
     "data": {
      "image/png": "[encoded data removed]",
      "text/plain": [
       "<matplotlib.figure.Figure at 0x118082090>"
      ]
     },
     "metadata": {},
     "output_type": "display_data"
    }
   ],
   "source": [
    "a = np.array([0, 1, 2, 3])\n",
    "b = np.array([10, 9, 8, 7])\n",
    "\n",
    "plt.plot(a[:2], b[:2], 'ob', label='blue circles') #plot the first two values as blue circles\n",
    "plt.plot(a[2:], b[2:], '^m', label='pink triangles') #plot the second two values as magenta triangles\n",
    "plt.xlabel(r'$\\alpha$')\n",
    "plt.ylabel(r'$\\beta$')\n",
    "plt.title('scatter plot')\n",
    "plt.legend(loc=1, frameon=True) #'loc' moves the legend around, frameon puts a box around the legend\n",
    "plt.show()"
   ]
  },
  {
   "cell_type": "markdown",
   "metadata": {},
   "source": [
    "### Question 7: Run your quadratic function for y = 2 * x^2 + 5, where x goes between -5 and 5. Plot it with a green dashed line and label it in the legend. Include labels and a title."
   ]
  },
  {
   "cell_type": "code",
   "execution_count": 14,
   "metadata": {},
   "outputs": [
    {
     "data": {
      "image/png": "[encoded data removed]",
      "text/plain": [
       "<matplotlib.figure.Figure at 0x118082f50>"
      ]
     },
     "metadata": {},
     "output_type": "display_data"
    }
   ],
   "source": [
    "#solution here\n",
    "\n",
    "x = np.linspace(-5, 5, 100)\n",
    "y = quad(2, 5, x)\n",
    "\n",
    "plt.plot(x, y, 'g--', label='my first plot')\n",
    "plt.xlabel('x')\n",
    "plt.ylabel('y')\n",
    "plt.title('plot!')\n",
    "plt.legend(loc=1)\n",
    "\n",
    "plt.show()"
   ]
  },
  {
   "cell_type": "markdown",
   "metadata": {},
   "source": [
    "To save a figure, write fig = plt.figure() before your plot, and before you call plt.show(), write fig.savefig('filename.jpg'). \n",
    "\n",
    "### Exercise\n",
    "\n",
    "    1. Write a function that takes an array of numbers and spits out the Gaussian distribution. Yes, there is a function for this in Python, but it's good to do this from scratch! This is the equation:\n",
    "    \n",
    "$$ f(x) = \\frac{1}{\\sigma \\sqrt{2\\pi}} \\exp{\\frac{-(x - \\mu)^2}{2\\sigma^2}} $$\n",
    "\n",
    "    Pi is built into numpy, so call it as np.pi.\n",
    "\n",
    "    2. Call the function a few different times for different values of mu and sigma, between -10 < x < 10.\n",
    "    \n",
    "    3. Plot each version, making sure they are differentiated with different colors and/or linestyles and include a legend.\n",
    "    \n",
    "    4. Save your figure.\n",
    "    \n",
    "If you have multiple lines with plt.plot(), Python will plot all of them together, unless you write plt.show() after each one. I want these all on one plot."
   ]
  },
  {
   "cell_type": "code",
   "execution_count": 15,
   "metadata": {},
   "outputs": [
    {
     "data": {
      "image/png": "[encoded data removed]",
      "text/plain": [
       "<matplotlib.figure.Figure at 0x1180821d0>"
      ]
     },
     "metadata": {},
     "output_type": "display_data"
    }
   ],
   "source": [
    "# solution here\n",
    "\n",
    "def gauss(x, mu, sig):\n",
    "    const = (sig * np.sqrt(2 * np.pi))**(-1)\n",
    "    exp = np.exp(- (x-mu)**2 / (2 * sig**2) )\n",
    "    return const * exp\n",
    "\n",
    "x = np.linspace(-10, 10, 100)\n",
    "curve1 = gauss(x, 0, 1)\n",
    "curve2 = gauss(x, 2, 1)\n",
    "curve3 = gauss(x, 0, 2)\n",
    "\n",
    "\n",
    "fig = plt.figure()\n",
    "\n",
    "plt.plot(x, curve1, '--g', label=r'$\\mu=0, \\sigma=1$')\n",
    "plt.plot(x, curve2, '-b', label=r'$\\mu=2, \\sigma=1$')\n",
    "plt.plot(x, curve3, ':r', label=r'$\\mu=0, \\sigma=2$')\n",
    "\n",
    "plt.xlabel('x')\n",
    "\n",
    "plt.ylabel('y')\n",
    "\n",
    "plt.title('gauss')\n",
    "\n",
    "plt.legend()\n",
    "\n",
    "plt.savefig('gauss.jpg')"
   ]
  },
  {
   "cell_type": "code",
   "execution_count": null,
   "metadata": {
    "collapsed": true
   },
   "outputs": [],
   "source": []
  }
 ],
 "metadata": {
  "kernelspec": {
   "display_name": "Python 2",
   "language": "python",
   "name": "python2"
  },
  "language_info": {
   "codemirror_mode": {
    "name": "ipython",
    "version": 2
   },
   "file_extension": ".py",
   "mimetype": "text/x-python",
   "name": "python",
   "nbconvert_exporter": "python",
   "pygments_lexer": "ipython2",
   "version": "2.7.13"
  }
 },
 "nbformat": 4,
 "nbformat_minor": 2
}
