{
 "cells": [
  {
   "cell_type": "markdown",
   "metadata": {},
   "source": [
    "# TAURUS 2018\n",
    "# Introduction to Python Day 1\n",
    "# Basic Syntax, Variables & Arrays"
   ]
  },
  {
   "cell_type": "markdown",
   "metadata": {},
   "source": [
    "We have some exercises for you ranging from the most basic tasks to some more advanced plotting techniques that will be helpful to you in astronomy. \n",
    "\n",
    "The Jupyter notebook is an interactive browser interface for Python, allowing you to write and edit programs all in one notebook. The whole notebook is automatically saved periodically, but you can also save the outputs from your code as text files, plots or images separate from the notebook. It is a great tool when you are building code from scratch and want to troubleshoot it or make a quick plot.\n",
    "\n",
    "The first thing you'll need to do when writing any code is import the packages you expect to use. You can put your imports anywhere, as long as it's written somewhere before calling a function from the package, but it's cleaner to put them all at the top. \n",
    "\n",
    "For this tutorial, let's load up numpy, which is an external library containing most mathematical functions you will use. To run the code in a cell, press SHIFT+ENTER.\n",
    "\n",
    "To comment your code, put a hashtag in front of your comment. "
   ]
  },
  {
   "cell_type": "code",
   "execution_count": 1,
   "metadata": {
    "collapsed": true
   },
   "outputs": [],
   "source": [
    "import numpy as np #'import' loads up the package. you can use 'as' to define a shortcut so you don't need to type\n",
    "#numpy before every use of the package. Most people use 'np'.\n",
    "\n",
    "import astropy\n",
    "\n",
    "import matplotlib.pyplot as plt\n",
    "\n",
    "from scipy import integrate #'from' allows you to import a specific sub-package"
   ]
  },
  {
   "cell_type": "markdown",
   "metadata": {},
   "source": [
    "## Setting Variables\n",
    "\n",
    "To set a definition, use =."
   ]
  },
  {
   "cell_type": "code",
   "execution_count": 2,
   "metadata": {
    "collapsed": true
   },
   "outputs": [],
   "source": [
    "a = 1\n",
    "b = 2"
   ]
  },
  {
   "cell_type": "markdown",
   "metadata": {},
   "source": [
    "Now Python will always know that a is 1 in this notebook. Setting variables is useful for things like constants, such as c = 3.0e8. To check that this worked, we can print it out. The syntax for printing something is print(thing_you_want_to_print)."
   ]
  },
  {
   "cell_type": "code",
   "execution_count": 3,
   "metadata": {},
   "outputs": [
    {
     "name": "stdout",
     "output_type": "stream",
     "text": [
      "1\n"
     ]
    }
   ],
   "source": [
    "print(a)"
   ]
  },
  {
   "cell_type": "markdown",
   "metadata": {},
   "source": [
    "The double equals sign, ==, represents boolean logic. Boolean logic refers to true/false definitions. This will come in handy when you write code where your data must meet a certain criterion. \n",
    "\n",
    "OR statements: statement is TRUE if statement A is true, statement B is true, or both statements or true; statement is FALSE if both statements A and B are false.\n",
    "\n",
    "AND statements: statement is TRUE if and only if both A and B are true; statement is FALSE if one or both is false.\n",
    "\n",
    "In Python, the phrase \"a == 1 or 2\" does not make sense. The full statement must be \"a == 1 or a == 2\" such that they are independent clauses."
   ]
  },
  {
   "cell_type": "code",
   "execution_count": 4,
   "metadata": {},
   "outputs": [
    {
     "data": {
      "text/plain": [
       "True"
      ]
     },
     "execution_count": 4,
     "metadata": {},
     "output_type": "execute_result"
    }
   ],
   "source": [
    "a == 1"
   ]
  },
  {
   "cell_type": "code",
   "execution_count": 5,
   "metadata": {},
   "outputs": [
    {
     "data": {
      "text/plain": [
       "False"
      ]
     },
     "execution_count": 5,
     "metadata": {},
     "output_type": "execute_result"
    }
   ],
   "source": [
    "a == 2"
   ]
  },
  {
   "cell_type": "code",
   "execution_count": 6,
   "metadata": {},
   "outputs": [
    {
     "data": {
      "text/plain": [
       "True"
      ]
     },
     "execution_count": 6,
     "metadata": {},
     "output_type": "execute_result"
    }
   ],
   "source": [
    "a == 1 or a == 2"
   ]
  },
  {
   "cell_type": "code",
   "execution_count": 7,
   "metadata": {},
   "outputs": [
    {
     "data": {
      "text/plain": [
       "False"
      ]
     },
     "execution_count": 7,
     "metadata": {},
     "output_type": "execute_result"
    }
   ],
   "source": [
    "a == 1 and a == 2"
   ]
  },
  {
   "cell_type": "code",
   "execution_count": 8,
   "metadata": {},
   "outputs": [
    {
     "data": {
      "text/plain": [
       "True"
      ]
     },
     "execution_count": 8,
     "metadata": {},
     "output_type": "execute_result"
    }
   ],
   "source": [
    "a == 1 or b == 2"
   ]
  },
  {
   "cell_type": "markdown",
   "metadata": {},
   "source": [
    "## Variable types\n",
    "\n",
    "There are 3 kinds of variables in Python: strings, floats, and integers. \n",
    "\n",
    "A floating point value (float) is a number followed by a decimal. An integer is a whole number, and is required for discrete categories such as indexing (you can have entry 5 in an array, but not entry 5.5). A string has quotes around it and is treated as a word rather than a numeric value, so you cannot perform math on it.\n",
    "\n",
    "### Question 1: What kinds of variables are the following?"
   ]
  },
  {
   "cell_type": "code",
   "execution_count": 9,
   "metadata": {},
   "outputs": [
    {
     "name": "stdout",
     "output_type": "stream",
     "text": [
      "<type 'int'>\n",
      "<type 'float'>\n",
      "<type 'str'>\n",
      "<type 'float'>\n"
     ]
    }
   ],
   "source": [
    "i = 1 #integer\n",
    "j = 2.43 #float\n",
    "k = 'Hello world!' #string\n",
    "L = 3. #float\n",
    "#m = hello world! #error!\n",
    "print(type(i))\n",
    "print(type(j))\n",
    "print(type(k))\n",
    "print(type(L))"
   ]
  },
  {
   "cell_type": "markdown",
   "metadata": {},
   "source": [
    "You can convert between variable types if necessary, using the following commands:\n",
    "\n",
    "    int()\n",
    "    float()\n",
    "    str()\n",
    "    \n",
    "int() will print the whole number value of the float and *does not round*. float() will follow an integer with a .0, which sounds pointless but is necessary for Python arithmetic. str() will put quotes around it so that Python reads it literally rather than numerically.\n",
    "\n",
    "### Question 2: Convert i to a float and to a string. Convert j into an integer.\n"
   ]
  },
  {
   "cell_type": "code",
   "execution_count": 10,
   "metadata": {},
   "outputs": [
    {
     "name": "stdout",
     "output_type": "stream",
     "text": [
      "1.0\n",
      "1\n",
      "2\n"
     ]
    }
   ],
   "source": [
    "# solution here\n",
    "\n",
    "i_float = float(i)\n",
    "print(i_float)\n",
    "\n",
    "i_string = str(i)\n",
    "print(i_string)\n",
    "\n",
    "j_int =  int(j)\n",
    "print(j_int)"
   ]
  },
  {
   "cell_type": "markdown",
   "metadata": {},
   "source": [
    "### Now convert k to an integer. What happens?"
   ]
  },
  {
   "cell_type": "code",
   "execution_count": 11,
   "metadata": {},
   "outputs": [
    {
     "ename": "ValueError",
     "evalue": "invalid literal for int() with base 10: 'Hello world!'",
     "output_type": "error",
     "traceback": [
      "\u001b[0;31m---------------------------------------------------------------------------\u001b[0m",
      "\u001b[0;31mValueError\u001b[0m                                Traceback (most recent call last)",
      "\u001b[0;32m<ipython-input-11-b1719b3add2f>\u001b[0m in \u001b[0;36m<module>\u001b[0;34m()\u001b[0m\n\u001b[1;32m      1\u001b[0m \u001b[0;31m#solution here\u001b[0m\u001b[0;34m\u001b[0m\u001b[0;34m\u001b[0m\u001b[0m\n\u001b[1;32m      2\u001b[0m \u001b[0;34m\u001b[0m\u001b[0m\n\u001b[0;32m----> 3\u001b[0;31m \u001b[0mk_int\u001b[0m \u001b[0;34m=\u001b[0m \u001b[0mint\u001b[0m\u001b[0;34m(\u001b[0m\u001b[0mk\u001b[0m\u001b[0;34m)\u001b[0m\u001b[0;34m\u001b[0m\u001b[0m\n\u001b[0m\u001b[1;32m      4\u001b[0m \u001b[0;34m\u001b[0m\u001b[0m\n\u001b[1;32m      5\u001b[0m \u001b[0;31m#print(type(k))\u001b[0m\u001b[0;34m\u001b[0m\u001b[0;34m\u001b[0m\u001b[0m\n",
      "\u001b[0;31mValueError\u001b[0m: invalid literal for int() with base 10: 'Hello world!'"
     ]
    }
   ],
   "source": [
    "#solution here\n",
    "\n",
    "k_int = int(k)\n",
    "\n",
    "#print(type(k))"
   ]
  },
  {
   "cell_type": "markdown",
   "metadata": {},
   "source": [
    "### Challenge question: Convert the string '1.4' into an integer. Hint: this takes multiple steps."
   ]
  },
  {
   "cell_type": "code",
   "execution_count": 12,
   "metadata": {},
   "outputs": [
    {
     "name": "stdout",
     "output_type": "stream",
     "text": [
      "1\n"
     ]
    }
   ],
   "source": [
    "# solution here\n",
    "\n",
    "m = '1.4'\n",
    "n = float(m)\n",
    "n_int = int(n)\n",
    "\n",
    "print(n_int)"
   ]
  },
  {
   "cell_type": "markdown",
   "metadata": {},
   "source": [
    "## Python arithmetic\n",
    "\n",
    "The syntax for arithmetic are the following:\n",
    "    + add\n",
    "    - subtract\n",
    "    * multiply\n",
    "    / divide\n",
    "    ** power\n",
    "    np.log() log-base e\n",
    "    np.log10() log-base 10\n",
    "    np.exp() exponential"
   ]
  },
  {
   "cell_type": "code",
   "execution_count": 13,
   "metadata": {},
   "outputs": [
    {
     "name": "stdout",
     "output_type": "stream",
     "text": [
      "8\n"
     ]
    }
   ],
   "source": [
    "example = 5 + 3\n",
    "print(example)"
   ]
  },
  {
   "cell_type": "code",
   "execution_count": 14,
   "metadata": {},
   "outputs": [
    {
     "data": {
      "text/plain": [
       "3.43"
      ]
     },
     "execution_count": 14,
     "metadata": {},
     "output_type": "execute_result"
    }
   ],
   "source": [
    "i + j"
   ]
  },
  {
   "cell_type": "code",
   "execution_count": 15,
   "metadata": {},
   "outputs": [
    {
     "data": {
      "text/plain": [
       "2.43"
      ]
     },
     "execution_count": 15,
     "metadata": {},
     "output_type": "execute_result"
    }
   ],
   "source": [
    "i * j"
   ]
  },
  {
   "cell_type": "code",
   "execution_count": 16,
   "metadata": {},
   "outputs": [
    {
     "data": {
      "text/plain": [
       "1.4300000000000002"
      ]
     },
     "execution_count": 16,
     "metadata": {},
     "output_type": "execute_result"
    }
   ],
   "source": [
    "j - i"
   ]
  },
  {
   "cell_type": "code",
   "execution_count": 17,
   "metadata": {},
   "outputs": [
    {
     "data": {
      "text/plain": [
       "0.4115226337448559"
      ]
     },
     "execution_count": 17,
     "metadata": {},
     "output_type": "execute_result"
    }
   ],
   "source": [
    "i / j "
   ]
  },
  {
   "cell_type": "markdown",
   "metadata": {},
   "source": [
    "You're using Python 3.5, but note that in version 2.7, it was important to remember whether your variables were floats or integers. Dividing two integers used to give you an integer answer even if there was a remainder, so watch out for that if you decide to use 2.7."
   ]
  },
  {
   "cell_type": "markdown",
   "metadata": {},
   "source": [
    "## Arrays and Lists\n",
    "\n",
    "When working with data, you usually won't be dealing with just one number, but an array of values. Arrays can consist of floats, integers, strings, or a combination of them. A list is denoted by brackets: [], while an array must be defined with np.array(). \n",
    "\n",
    "The dimensions of arrays and lists are the same as in linear algebra: (rows, columns).\n",
    "\n",
    "The following is a 1D list:"
   ]
  },
  {
   "cell_type": "code",
   "execution_count": 18,
   "metadata": {},
   "outputs": [
    {
     "name": "stdout",
     "output_type": "stream",
     "text": [
      "['Barry B. Benson', 'Vanessa Bloome', 'Ray Liotta as Ray Liotta']\n"
     ]
    }
   ],
   "source": [
    "beemovie = ['Barry B. Benson', 'Vanessa Bloome', 'Ray Liotta as Ray Liotta']\n",
    "print(beemovie)"
   ]
  },
  {
   "cell_type": "markdown",
   "metadata": {},
   "source": [
    "For strings, this is fine, but you will need arrays in order to manipulate them mathematically. The array function is built into numpy. Here is a 1D array:"
   ]
  },
  {
   "cell_type": "code",
   "execution_count": 19,
   "metadata": {
    "collapsed": true
   },
   "outputs": [],
   "source": [
    "myarray = np.array([1, 2, 3])"
   ]
  },
  {
   "cell_type": "markdown",
   "metadata": {},
   "source": [
    "The whole array must be enclosed in parentheses. Each row of the array should be in its own set of brackets, separated by commas.\n",
    "\n",
    "### Question 3: Create the following 2D array:\n",
    "\n",
    "    1 2 3\n",
    "    4 5 6"
   ]
  },
  {
   "cell_type": "code",
   "execution_count": 20,
   "metadata": {},
   "outputs": [
    {
     "name": "stdout",
     "output_type": "stream",
     "text": [
      "[[1 2 3]\n",
      " [4 5 6]]\n"
     ]
    }
   ],
   "source": [
    "#solution here\n",
    "\n",
    "my2darray = np.array([[1, 2, 3], [4, 5, 6]])\n",
    "print(my2darray)"
   ]
  },
  {
   "cell_type": "markdown",
   "metadata": {},
   "source": [
    "## Populating Arrays\n",
    "\n",
    "You don't always have to put in the values of your array manually, especially if, for example, you want a function to sample numbers evenly along some axis. \n",
    "\n",
    "There are two *inclusive* ways to define arrays, meaning that the last number is included.\n",
    "\n",
    "    The first is np.linspace(), giving you an array between two values that are linearly spaced. The second is np.logspace(), giving you an array between two values that are spaced evenly in log10 (10**1, 10**1.1, 10**1.2, etc).\n",
    "    \n",
    "The syntax is the following:\n",
    "\n",
    "    np.linspace(beginning number, end number, number of values)\n",
    "    np.logspace(log(beginning number), log(end number), number of values)\n",
    "    \n",
    "### Question 4: Create two arrays with ten entries between 1 and 100, one in linear space and the other in logspace."
   ]
  },
  {
   "cell_type": "code",
   "execution_count": 21,
   "metadata": {},
   "outputs": [
    {
     "name": "stdout",
     "output_type": "stream",
     "text": [
      "(array([   1.,   12.,   23.,   34.,   45.,   56.,   67.,   78.,   89.,  100.]), array([   1.        ,    1.66810054,    2.7825594 ,    4.64158883,\n",
      "          7.74263683,   12.91549665,   21.5443469 ,   35.93813664,\n",
      "         59.94842503,  100.        ]))\n"
     ]
    }
   ],
   "source": [
    "# solution here\n",
    "\n",
    "mylinspace = np.linspace(1, 100, 10)\n",
    "mylogspace = np.logspace(np.log10(1), np.log10(100), 10)\n",
    "\n",
    "print(mylinspace, mylogspace)"
   ]
  },
  {
   "cell_type": "markdown",
   "metadata": {},
   "source": [
    "Another way to create an array is through np.arange(), but this is *exclusive*, meaning it will sample numbers linearly beginning with your initial number and ending one step size before your end number. So if you want your axis to go from 0 to 100 in steps of 1, make sure you tell it to go to 101.\n",
    "\n",
    "Confusingly, the syntax is different. The third argument is your step size, not your number of data points, so this is good to use if the step size is important. Of course you can always figure out how many data points you need for the spacing to be such-and-such in linspace, but if you're lazy and bad at math this works too!\n",
    "\n",
    "    np.arange(beginning number, end number+1, spacing)\n",
    "    \n",
    "### Question 5: Create the same array with ten entries between 1 and 100 using np.arange. Notice how this is different from linspace."
   ]
  },
  {
   "cell_type": "code",
   "execution_count": 22,
   "metadata": {},
   "outputs": [
    {
     "name": "stdout",
     "output_type": "stream",
     "text": [
      "[ 1 11 21 31 41 51 61 71 81 91]\n"
     ]
    }
   ],
   "source": [
    "# solution here\n",
    "\n",
    "myarange = np.arange(1, 101, 10)\n",
    "print(myarange)"
   ]
  },
  {
   "cell_type": "markdown",
   "metadata": {},
   "source": [
    "Another quick way to create an array is through np.zeros. This populates an array with, well, zeros. It might sound useless at first, but it's an easy way to initialize an array that you will later replace with different values. It helps keep arrays at a fixed length, for instance. More on that later.\n",
    "\n",
    "The syntax is simply number of rows, number of columns. If it's 1D, then it can just be:\n",
    "\n",
    "    np.zeros(3) #a 1x3 array of zeros\n",
    "    \n",
    "If it's N-D, you need two sets of parentheses:\n",
    "\n",
    "    np.zeros((rows, columns))\n",
    "    \n",
    "    \n",
    "### Question 6: Create a 3x3 array of zeros."
   ]
  },
  {
   "cell_type": "code",
   "execution_count": 23,
   "metadata": {},
   "outputs": [
    {
     "name": "stdout",
     "output_type": "stream",
     "text": [
      "[[ 0.  0.  0.]\n",
      " [ 0.  0.  0.]\n",
      " [ 0.  0.  0.]]\n"
     ]
    }
   ],
   "source": [
    "#solution here\n",
    "\n",
    "myzero = np.zeros((3, 3))\n",
    "\n",
    "print(myzero)"
   ]
  },
  {
   "cell_type": "markdown",
   "metadata": {},
   "source": [
    "## Indexing\n",
    "\n",
    "## PYTHON USES ZERO-BASED INDEXING!\n",
    "\n",
    "This means that the first value of an array is the 0th index. \n",
    "\n",
    "To call a certain value from an array, call the array name followed by brackets:\n",
    "\n",
    "    array[0]\n",
    "    \n",
    "The value inside the brackets can also be a variable, so long as the variable is an integer. More on this later.\n",
    "\n",
    "A helpful shortcut is that you can also count backwards in your array with a negative sign, so the last value in your array is always array[-1].\n",
    "\n",
    "### Question 7: Print out the first and last value in your linspace array."
   ]
  },
  {
   "cell_type": "code",
   "execution_count": 24,
   "metadata": {},
   "outputs": [
    {
     "name": "stdout",
     "output_type": "stream",
     "text": [
      "(1.0, 100.0)\n"
     ]
    }
   ],
   "source": [
    "#solution here\n",
    "\n",
    "first_val = mylinspace[0]\n",
    "last_val = mylinspace[-1]\n",
    "\n",
    "print(first_val, last_val)"
   ]
  },
  {
   "cell_type": "markdown",
   "metadata": {},
   "source": [
    "Finally, you can also slice arrays between certain index values. This is helpful if you only want to plot a small subsample of your data, for example.\n",
    "\n",
    "For slicing, use a colon. Syntax:\n",
    "\n",
    "    :x - from beginning to index x\n",
    "    x: - from index x until the end\n",
    "    a:b - from index a to b\n",
    "    a:b:c - every c'th entry between a and b\n",
    "    \n",
    "These can be combined, e.g. a::c goes from index a until the end in steps of c.\n",
    "    \n",
    "Slicing is *exclusive*.\n",
    "\n",
    "### Question 8: Print out the following: a) your linear array until index 5; b) your log array beginning at index 1; c) your arange array between indices 4 and 8; and d) your full linear array in steps of 2 indices."
   ]
  },
  {
   "cell_type": "code",
   "execution_count": 25,
   "metadata": {},
   "outputs": [
    {
     "name": "stdout",
     "output_type": "stream",
     "text": [
      "[  1.  12.  23.  34.  45.]\n",
      "[   1.66810054    2.7825594     4.64158883    7.74263683   12.91549665\n",
      "   21.5443469    35.93813664   59.94842503  100.        ]\n",
      "[41 51 61 71]\n",
      "[  1.  23.  45.  67.  89.]\n"
     ]
    }
   ],
   "source": [
    "#solution here\n",
    "\n",
    "print(mylinspace[:5])\n",
    "print(mylogspace[1:])\n",
    "print(myarange[4:8])\n",
    "print(mylinspace[::2])"
   ]
  },
  {
   "cell_type": "markdown",
   "metadata": {},
   "source": [
    "## np.where()\n",
    "\n",
    "This function allows you to impose a condition on an array so you can search the array for specific values. These conditions can be the following:\n",
    "\n",
    "    < less than\n",
    "    <= less than or equal to\n",
    "    > greater than\n",
    "    >= greater than or equal to\n",
    "    == equal to\n",
    "    != not equal to\n",
    "    \n",
    "This function takes some getting used to. The output will be the indices where the array meets your condition. To print the actual values, you would call the array with the output from np.where() as the indices. \n",
    "\n",
    "You can also give np.where() a compound condition connected by an ampersand &. \n",
    "\n",
    "    np.where(array < 2)\n",
    "\n",
    "This gives the indices where this is true. The values of the array where it's true would be written as:\n",
    "\n",
    "    array[np.where(array < 2)]\n",
    "    \n",
    "With a compound statement:\n",
    "\n",
    "    array[np.where((array < 2) & (array > 0))]\n",
    "    \n",
    "Note that, as above, compound statements must be independent clauses, so something like \"0<array<2\" doesn't work.\n",
    "\n",
    "### Question 9: Print out, from your linspace array, the following: a) where the array is greater than 10, b) the array where its values are greater than 10, c) where the array is greater than 1 and less than 10, and d) where the array divided by 2 is less than 50."
   ]
  },
  {
   "cell_type": "code",
   "execution_count": 26,
   "metadata": {
    "collapsed": true
   },
   "outputs": [],
   "source": [
    "# solution here\n",
    "\n",
    "q1 = np.where(mylinspace > 10)\n",
    "q2 = mylinspace[q1]"
   ]
  },
  {
   "cell_type": "markdown",
   "metadata": {},
   "source": [
    "## Array Manipulation and Attributes\n",
    "\n",
    "You can manipulate arrays with one statement. Check it out:\n",
    "\n",
    "### Question 10: Create a new array which is your logspace array divided by 2. Create another new array which is your linspace array + 2."
   ]
  },
  {
   "cell_type": "code",
   "execution_count": 27,
   "metadata": {
    "collapsed": true
   },
   "outputs": [],
   "source": [
    "#solution here\n",
    "\n",
    "mydividedarray = mylogspace / 2.\n",
    "myarrayplus2 = mylinspace + 2"
   ]
  },
  {
   "cell_type": "markdown",
   "metadata": {},
   "source": [
    "You can append values to the end of an array using np.append(). Use it like this:\n",
    "\n",
    "    np.append(array, something_appended)\n",
    "    \n",
    "You can even append another array, like this:\n",
    "\n",
    "    np.append(array, [5, 6])\n",
    "    np.append(array1, array2)\n",
    "    \n",
    "### Question 11: Create a new array which is an array from 100 to 200 appended to your linspace array."
   ]
  },
  {
   "cell_type": "code",
   "execution_count": 28,
   "metadata": {},
   "outputs": [
    {
     "name": "stdout",
     "output_type": "stream",
     "text": [
      "[   1.           12.           23.           34.           45.           56.\n",
      "   67.           78.           89.          100.          100.\n",
      "  111.11111111  122.22222222  133.33333333  144.44444444  155.55555556\n",
      "  166.66666667  177.77777778  188.88888889  200.        ]\n"
     ]
    }
   ],
   "source": [
    "#solution here\n",
    "\n",
    "newarray = np.linspace(100, 200, 10)\n",
    "appendedarray = np.append(mylinspace, newarray)\n",
    "\n",
    "print(appendedarray)"
   ]
  },
  {
   "cell_type": "markdown",
   "metadata": {},
   "source": [
    "The last part of today will be showing you how to acquire different information from an array. Some of these are attributes of the array, and some of them are attributes of np itself, so you may need to look this up again in the future.\n",
    "\n",
    "Attributes of the array means that you call this by nameofarray.command:\n",
    "   \n",
    "    ndim - prints dimensions of your array\n",
    "    size - number of elements in n-dimensional array\n",
    "    shape - shape given by (rows, columns)\n",
    "    flatten() - collapses the array along one axis\n",
    "    T - transpose the matrix\n",
    "    reshape(x, y) - change the dimensions of the array to x, y -- the total number of elements (x*y) MUST match\n",
    "   \n",
    "Attributes of numpy, meaning that you call it by np.command(nameofarray):\n",
    "\n",
    "    sum - sum all the elements in the array\n",
    "    min - print minimum value in array\n",
    "    max - print maximum value\n",
    "    sort - print array in ascending order\n",
    "    len - print number of elements along the row axis\n",
    "    dot - matrix multiplication\n",
    "    "
   ]
  },
  {
   "cell_type": "markdown",
   "metadata": {},
   "source": [
    "### Exercise\n",
    "\n",
    "\n",
    "    1. Create an array with 10 evenly spaced values in logspace ranging from 0.1 to 10,000.\n",
    "\n",
    "    2. Print the following values: The third value in the array, the final value in the array, and the range of 5th-8th values.\n",
    "\n",
    "    3. Append the numbers 10,001 and 10,002 (as floats) to the array.\n",
    "\n",
    "    4. Divide your new array by 2.\n",
    "\n",
    "    5. Reshape your array to be 3 x 4. \n",
    "\n",
    "    6. Multiply your array by itself.\n",
    "    \n",
    "    7. Print out the number of dimensions and the maximum value."
   ]
  },
  {
   "cell_type": "code",
   "execution_count": 29,
   "metadata": {},
   "outputs": [
    {
     "name": "stdout",
     "output_type": "stream",
     "text": [
      "(1.2915496650148841, 10000.0, array([  16.68100537,   59.94842503,  215.443469  ]))\n",
      "[  5.00000000e-02   1.79690683e-01   6.45774833e-01   2.32079442e+00\n",
      "   8.34050269e+00   2.99742125e+01   1.07721735e+02   3.87131841e+02\n",
      "   1.39127970e+03   5.00000000e+03   5.00050000e+03   5.00100000e+03]\n",
      "[[  1.00000000e-01   3.59381366e-01   1.29154967e+00   4.64158883e+00]\n",
      " [  1.66810054e+01   5.99484250e+01   2.15443469e+02   7.74263683e+02]\n",
      " [  2.78255940e+03   1.00000000e+04   1.00010000e+04   1.00020000e+04]]\n",
      "2\n",
      "100040004.0\n"
     ]
    }
   ],
   "source": [
    "# solution here\n",
    "#1\n",
    "arr=np.logspace(-1,4,10)\n",
    "#2\n",
    "print(arr[2],arr[-1],arr[4:7])\n",
    "#3\n",
    "arr=np.append(arr,[10001.,10002.])\n",
    "#4\n",
    "arr_div_2=arr/2.\n",
    "print(arr_div_2)\n",
    "#5\n",
    "arr_resh=np.reshape(arr,(3,4))\n",
    "print(arr_resh)\n",
    "#6\n",
    "arr_sq=arr_resh**2\n",
    "#7\n",
    "print(arr_sq.ndim)\n",
    "print(np.max(arr_sq))"
   ]
  },
  {
   "cell_type": "code",
   "execution_count": null,
   "metadata": {
    "collapsed": true
   },
   "outputs": [],
   "source": []
  }
 ],
 "metadata": {
  "kernelspec": {
   "display_name": "Python 2",
   "language": "python",
   "name": "python2"
  },
  "language_info": {
   "codemirror_mode": {
    "name": "ipython",
    "version": 2
   },
   "file_extension": ".py",
   "mimetype": "text/x-python",
   "name": "python",
   "nbconvert_exporter": "python",
   "pygments_lexer": "ipython2",
   "version": "2.7.13"
  }
 },
 "nbformat": 4,
 "nbformat_minor": 2
}
