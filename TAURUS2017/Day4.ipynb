{
 "cells": [
  {
   "cell_type": "markdown",
   "metadata": {},
   "source": [
    "# TAURUS 2018\n",
    "# Introduction to Python Day 4\n",
    "# Astropy, FITS files & Imaging\n",
    "\n",
    "Congrats on making it to the last day of this seminar! You've learned a lot in three days, so now let's put it all together to do some astronomy! \n",
    "\n",
    "A package I highly recommend you become familiar with is astropy. This includes a library of astronomical constants and unit conversions, coordinate conversions, cosmological calculations, image processing, and much more!\n",
    "\n",
    "## Pip install\n",
    "\n",
    "This leads us to a great opportunity to show you how to install additional packages to your Python distribution. If it is a large, well-known package (i.e., not developed by one person on github), you can usually install things using pip. Go ahead and open a terminal session. Once you are in bash and your Python 3.5 environment, type\n",
    "\n",
    "    pip install astropy\n",
    "    \n",
    "This will automatically download and install astropy from the Internet! Note that this needs to be done outside of a Jupyter notebook (it'll throw an error if you try it). \n",
    "\n",
    "(Depending on the distribution of Python you have installed on your computer, it may or may not have come with astropy preloaded. If it's already there, then pip install will stop and say 'requirement already satisfied.')\n",
    "\n",
    "\n",
    "## Astropy: Units & Constants\n",
    "\n",
    "The most basic use for Astropy is units and constants. I highly recommend using the constants within Astropy so that a) you're not constantly Googling them, and b) they are precise and accurate. The constants are loaded with units as well, making conversions between them quite easy.\n",
    "\n",
    "One quick disclaimer is that the solar mass constant is slightly out of date, so researchers doing high-precision stellar work may need to keep that in mind.\n",
    "\n",
    "Load up the constants as well as our other usual packages:\n"
   ]
  },
  {
   "cell_type": "code",
   "execution_count": null,
   "metadata": {
    "collapsed": true
   },
   "outputs": [],
   "source": [
    "from astropy import constants as const\n",
    "import numpy as np\n",
    "import matplotlib.pyplot as plt"
   ]
  },
  {
   "cell_type": "markdown",
   "metadata": {},
   "source": [
    "To call a constant, simply type const.(constant) where the symbols are generally the same as what's in your textbooks. For example, G is Newton's gravitational constant:"
   ]
  },
  {
   "cell_type": "code",
   "execution_count": null,
   "metadata": {
    "collapsed": true
   },
   "outputs": [],
   "source": [
    "G = const.G\n",
    "\n",
    "print(G)\n",
    "const.G"
   ]
  },
  {
   "cell_type": "markdown",
   "metadata": {},
   "source": [
    "Calling the constant will give you a bunch of information about it, including its name, value, uncertainty, and SI unit. Astropy is not in cgs units, but it's easy to convert by adding .cgs to the end of the unit:"
   ]
  },
  {
   "cell_type": "code",
   "execution_count": null,
   "metadata": {
    "collapsed": true
   },
   "outputs": [],
   "source": [
    "G_cgs = const.G.cgs\n",
    "\n",
    "print(G_cgs)"
   ]
  },
  {
   "cell_type": "markdown",
   "metadata": {},
   "source": [
    "You can also convert to specific units as you choose, by doing .to('new units'). For example:"
   ]
  },
  {
   "cell_type": "code",
   "execution_count": null,
   "metadata": {
    "collapsed": true
   },
   "outputs": [],
   "source": [
    "G_weirdunits = const.G.to('kpc3 / (Msun Gyr2)')\n",
    "\n",
    "print(G_weirdunits)"
   ]
  },
  {
   "cell_type": "markdown",
   "metadata": {},
   "source": [
    "This can be very helpful when using normalized equations. Note that Python will have trouble with certain units: for example, it doesn't know it can cancel out Hz and seconds. Also, if there are units inside a log expression, it will complain. So if you already know your units work out and you just want the value, you can type .value!\n",
    "\n",
    "These can also be combined, like G.cgs.value."
   ]
  },
  {
   "cell_type": "code",
   "execution_count": null,
   "metadata": {
    "collapsed": true
   },
   "outputs": [],
   "source": [
    "G_value = const.G.value\n",
    "\n",
    "print(G_value)"
   ]
  },
  {
   "cell_type": "markdown",
   "metadata": {},
   "source": [
    "If you do want to keep track of units, you can assign them by multiplying a float by the unit."
   ]
  },
  {
   "cell_type": "code",
   "execution_count": null,
   "metadata": {
    "collapsed": true
   },
   "outputs": [],
   "source": [
    "from astropy import units as u\n",
    "\n",
    "R = 1.0 * u.kpc\n",
    "\n",
    "print(R)"
   ]
  },
  {
   "cell_type": "markdown",
   "metadata": {},
   "source": [
    "### Question 1: Using astropy, call the speed of light and convert it to kilometers per Megayear. "
   ]
  },
  {
   "cell_type": "code",
   "execution_count": null,
   "metadata": {
    "collapsed": true
   },
   "outputs": [],
   "source": [
    "# solution here"
   ]
  },
  {
   "cell_type": "markdown",
   "metadata": {},
   "source": [
    "## Astropy: Cosmological Calculations\n",
    "\n",
    "There's a good chance you will need to calculate things like luminosity distance, angular diameter distance, or age of the Universe, especially if you are doing high-redshift work. To do cosmology in astropy, simply set the cosmological parameters, like so:"
   ]
  },
  {
   "cell_type": "code",
   "execution_count": null,
   "metadata": {
    "collapsed": true
   },
   "outputs": [],
   "source": [
    "from astropy.cosmology import FlatLambdaCDM\n",
    "\n",
    "cosmo=FlatLambdaCDM(H0=70., Om0=0.3)"
   ]
  },
  {
   "cell_type": "markdown",
   "metadata": {},
   "source": [
    "This sets the Hubble constant to 70 km/s / Mpc and the matter density factor, $\\Omega_M$, to 0.3. The cosmological calculations are attributes of FlatLambdaCDM which we've set to \"cosmo.\" Here are a couple of examples:"
   ]
  },
  {
   "cell_type": "code",
   "execution_count": null,
   "metadata": {
    "collapsed": true
   },
   "outputs": [],
   "source": [
    "LD4 = cosmo.luminosity_distance(4)\n",
    "ADD4 = cosmo.angular_diameter_distance(4)\n",
    "\n",
    "print(LD4, ADD4)"
   ]
  },
  {
   "cell_type": "markdown",
   "metadata": {},
   "source": [
    "### Question 2: What is the age of the Universe at redshift 1, in Myr and Gyr?"
   ]
  },
  {
   "cell_type": "code",
   "execution_count": null,
   "metadata": {
    "collapsed": true
   },
   "outputs": [],
   "source": [
    "# solution here"
   ]
  },
  {
   "cell_type": "markdown",
   "metadata": {},
   "source": [
    "### Exercise\n",
    "\n",
    "Let's practice some more plotting skills, now incorporating units. \n",
    "\n",
    "    1. Write a function that takes an array of frequencies and spits out the Planck distribution. That's this equation:\n",
    "\n",
    "$$ B(\\nu, T) = \\frac{2h\\nu^3/c^2}{e^{\\frac{h\\nu}{k_B T}} - 1} $$\n",
    "\n",
    "    This requires you to use the Planck constant, the Boltzmann constant, and the speed of light from astropy. Make sure they are all in cgs. \n",
    "    \n",
    "    2. Plot your function in log-log space for 25, 50, and 300 K. Make sure everything is labelled. "
   ]
  },
  {
   "cell_type": "code",
   "execution_count": null,
   "metadata": {
    "collapsed": true
   },
   "outputs": [],
   "source": [
    "# solution here"
   ]
  },
  {
   "cell_type": "markdown",
   "metadata": {},
   "source": [
    "## FITS Files\n",
    "\n",
    "Astropy can read in FITS files, which is a typical format of astronomical images. FITS stands for Flexible Image Transport System, and most basic image viewers can't do anything with them since they aren't files like JPGs or GIFs. There are a few programs that will read them, including CASA if you're a radio astronomer, or DS9.\n",
    "\n",
    "FITS is a useful format for astronomical data because it contains a lot of behind the scenes information. The header in particular will usually give you information about the telescope the data is from, the reference position in the sky for the data, the pixel scale, the size of the image, and more! First, let's import the package."
   ]
  },
  {
   "cell_type": "code",
   "execution_count": null,
   "metadata": {
    "collapsed": true
   },
   "outputs": [],
   "source": [
    "from astropy.io import fits"
   ]
  },
  {
   "cell_type": "markdown",
   "metadata": {},
   "source": [
    "Let's step through how to work with the files I've given you to work with. First, open the file using fits.open(). To get some basic information about the file, type fitsfile.info()."
   ]
  },
  {
   "cell_type": "code",
   "execution_count": null,
   "metadata": {
    "collapsed": true
   },
   "outputs": [],
   "source": [
    "hdulist = fits.open('f001a066.fits') #B filter image of Andromeda\n",
    "hdulist.info()"
   ]
  },
  {
   "cell_type": "markdown",
   "metadata": {},
   "source": [
    "The actual information of interest is contained in the header. FITS files can contain many images in the same file, but this is a 2D image, so it only contains one slice. We will still have to specify that it's the first slice, so we call \"hdulist[0]\". Note that you can do a shortcut in the first place and place the [0] at the end of fits.open(). \n",
    "\n",
    "Let's read out the header:"
   ]
  },
  {
   "cell_type": "code",
   "execution_count": null,
   "metadata": {
    "collapsed": true
   },
   "outputs": [],
   "source": [
    "hdulist[0].header"
   ]
  },
  {
   "cell_type": "markdown",
   "metadata": {},
   "source": [
    "You can also call specific lines of the header. The header is written as an array so you can index it the same way as always. You can also call the line by its name as a string, such as hdulist['SKEW']. \n",
    "\n",
    "### Question 3: What is the pixel scale on the x axis? This is typically called CDELT1. What information is contained on the second line of the header?"
   ]
  },
  {
   "cell_type": "code",
   "execution_count": null,
   "metadata": {
    "collapsed": true
   },
   "outputs": [],
   "source": [
    "# solution here"
   ]
  },
  {
   "cell_type": "markdown",
   "metadata": {},
   "source": [
    "Now we know a little bit about what we're working with. You'll have to check headers pretty frequently so I'd commit this step to memory!\n",
    "\n",
    "Now we can access the data contained in the FITS file. The values are typically units of brightness and the positions in the matrix are the pixel values, with (0, 0) in the bottom left. You can manipulate this matrix like you would with any array. "
   ]
  },
  {
   "cell_type": "code",
   "execution_count": null,
   "metadata": {
    "collapsed": true
   },
   "outputs": [],
   "source": [
    "M51B = hdulist[0].data"
   ]
  },
  {
   "cell_type": "markdown",
   "metadata": {},
   "source": [
    "### Question 4: What are the size and shape of this matrix? What is the average and standard deviation of the flux?"
   ]
  },
  {
   "cell_type": "code",
   "execution_count": null,
   "metadata": {
    "collapsed": true
   },
   "outputs": [],
   "source": [
    "# solution here"
   ]
  },
  {
   "cell_type": "markdown",
   "metadata": {},
   "source": [
    "If you load in data this way, you will most likely be manipulating the values numerically for some reason. Some common reasons for this might be to change the units of the flux, mask out a bright star or quasar, rotate the image, or something like that. \n",
    "\n",
    "If the shape of the array gets in the way of some calculation or manipulation you're doing, you can turn it into a 1D array by doing data.flatten(), and you can reshape it later. \n",
    "\n",
    "### Question 5: Flatten your array and produce a normalized histogram of the flux values."
   ]
  },
  {
   "cell_type": "code",
   "execution_count": null,
   "metadata": {
    "collapsed": true
   },
   "outputs": [],
   "source": [
    "# solution here"
   ]
  },
  {
   "cell_type": "markdown",
   "metadata": {},
   "source": [
    "## Aplpy\n",
    "\n",
    "My favorite way to work with images in Python is the package aplpy (pronounced Apple Pie) which allows you to make lovely publication-worthy image plots. Go ahead and pip install this now, and import it here."
   ]
  },
  {
   "cell_type": "code",
   "execution_count": null,
   "metadata": {
    "collapsed": true
   },
   "outputs": [],
   "source": [
    "import aplpy"
   ]
  },
  {
   "cell_type": "markdown",
   "metadata": {},
   "source": [
    "To use aplpy, you don't need to go through the process of opening the FITS file and grabbing the data as in astropy. You will just open the file using FITSFigure. Let's check out this mysterious image:"
   ]
  },
  {
   "cell_type": "code",
   "execution_count": null,
   "metadata": {
    "collapsed": true
   },
   "outputs": [],
   "source": [
    "galaxy = aplpy.FITSFigure('f001a066.fits')\n",
    "galaxy.show_colorscale(cmap='hot')\n",
    "galaxy.show_colorbar()\n",
    "\n",
    "plt.show()"
   ]
  },
  {
   "cell_type": "markdown",
   "metadata": {},
   "source": [
    "This is the tutorial included in the Aplpy documentation that nicely shows how you can overplot contours and include multiple layers. Take some time to play with this:"
   ]
  },
  {
   "cell_type": "code",
   "execution_count": null,
   "metadata": {
    "collapsed": true
   },
   "outputs": [],
   "source": [
    "galaxy = aplpy.FITSFigure('tutorial/fits/2MASS_k.fits')\n",
    "\n",
    "galaxy.show_rgb('tutorial/graphics/2MASS_arcsinh_color.png')\n",
    "\n",
    "galaxy.show_contour('tutorial/fits/mips_24micron.fits')\n",
    "\n",
    "data = np.loadtxt('tutorial/data/yso_wcs_only.txt')\n",
    "ra, dec = data[:, 0], data[:, 1]\n",
    "\n",
    "galaxy.show_markers(ra, dec, layer='marker_set_1', edgecolor='red', facecolor='none', \n",
    "                    marker='o', s=10, alpha=0.5)\n",
    "\n",
    "plt.show()"
   ]
  },
  {
   "cell_type": "markdown",
   "metadata": {},
   "source": [
    "### Exercise\n",
    "\n",
    "Let's put everything together now! Here's a link to the full documentation for FITSFigure, which will tell you all of the customizable options: http://aplpy.readthedocs.io/en/stable/api/aplpy.FITSFigure.html. Let's create a nice plot of M51 with a background optical image and X-ray contours overplotted.\n",
    "\n",
    "The data came from here if you're interested: http://chandra.harvard.edu/photo/openFITS/multiwavelength_data.html\n",
    "\n",
    "1. Using astropy, open the X-ray data (m51_xray.fits). Flatten the data array and find its standard deviation, and call it sigma.\n",
    "2. Plot a colorscale image of the optical data. Choose a colormap that is visually appealing (list of them here: https://matplotlib.org/2.0.2/examples/color/colormaps_reference.html). Show the colorbar. \n",
    "3. Plot the X-ray data as contours above the optical image. Make the contours red with 80% opacity and dotted lines. Make the levels go from 1$\\sigma$ to 10$\\sigma$ in steps of $\\sigma$. (It might be easier to define the levels array before show_contours, and set levels=levels.)\n"
   ]
  },
  {
   "cell_type": "code",
   "execution_count": null,
   "metadata": {
    "collapsed": true
   },
   "outputs": [],
   "source": [
    "#solution here"
   ]
  },
  {
   "cell_type": "markdown",
   "metadata": {},
   "source": [
    "Congratulations -- you are now a Python expert!"
   ]
  },
  {
   "cell_type": "code",
   "execution_count": null,
   "metadata": {
    "collapsed": true
   },
   "outputs": [],
   "source": []
  }
 ],
 "metadata": {
  "kernelspec": {
   "display_name": "Python 3",
   "language": "python",
   "name": "python3"
  },
  "language_info": {
   "codemirror_mode": {
    "name": "ipython",
    "version": 3
   },
   "file_extension": ".py",
   "mimetype": "text/x-python",
   "name": "python",
   "nbconvert_exporter": "python",
   "pygments_lexer": "ipython3",
   "version": "3.5.3"
  }
 },
 "nbformat": 4,
 "nbformat_minor": 2
}
