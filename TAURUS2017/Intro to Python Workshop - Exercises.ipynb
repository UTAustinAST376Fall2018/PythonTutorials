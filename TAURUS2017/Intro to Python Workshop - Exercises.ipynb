{
 "cells": [
  {
   "cell_type": "markdown",
   "metadata": {},
   "source": [
    "# Exercises\n",
    "\n",
    "The 2017 TAURUS Programming Workshop will run for two days: Tuesday 6/13 and Thursday 6/15. The following are a list of exercises which you'll be able to follow along with during the workshop, and these will also be available for you to work on whenever you want.\n",
    "\n",
    "## Day One\n",
    "\n",
    "Let's start with some Unix commands - so these won't be something you carry out in this notebook. All of you will be using either a Linux machine or a Mac, so the terminal operates more or less the same way. Thank heavens none of you are using PC :)\n",
    "\n",
    "### Command Line Tools \n",
    "\n",
    "To get started, open up a terminal in your home directory. To double check it's your home directory, type\n",
    "\n",
    "    pwd\n",
    "    \n",
    "and this should return /Users/yourusername.\n",
    "\n",
    "Let's make a directory where you can store all of your work for the summer. \n",
    "\n",
    "    mkdir ut2017\n",
    "    \n",
    "If you're reading this, then you already downloaded my zip file of materials here. Go ahead and move all those files into this new directory, using mv:\n",
    "\n",
    "    mv downloaded_files ut2017\n",
    "    \n",
    "To change into that directory, type:\n",
    "\n",
    "    cd ut2017\n",
    "    \n",
    "(To go back to a parent directory above the one you're in, you can type cd ..; to get back to your home directory, just type cd; and to type the full path of anywhere you want to go on your computer, ~/ is the shortcut for \"/Home/Users/blahblahblah\" so you can begin your path with \"~/Documents\" for example.)\n",
    "    \n",
    "Let's take a look at what we have in here. It should be all of the files you just moved. \n",
    "\n",
    "    ls\n",
    "   \n",
    "There are a bunch of customizable options with ls. For instance, ls -l will list all the files including the associated permissions and the size of the file. ls * will organize things by subdirectories and their contents.\n",
    "\n",
    "If you ever want to check the sizes of your files - especially helpful when working with huge datasets and all of a sudden your disk is full -  you can use disk usage.\n",
    "\n",
    "    du -sh *\n",
    "    \n",
    "du indicates disk usage, and the -sh makes it in a readable format in directory order. You can also sort it by file size doing this:\n",
    "\n",
    "    du -sh * | sort -r\n",
    "    \n",
    "One other way to quickly search for files of a certain type is by selectively using the asterisk. * in Unix/Linux indicates \"all\". You can search for all text files, for instance, by doing\n",
    "\n",
    "    ls *.txt\n",
    "    \n",
    "So ls will give you only those files ending in .txt. \n",
    "\n",
    "Now that we know how to look for files, let's talk real fast about manipulating files. You won't necessarily need to do this in this exercise, but it's helpful to learn the best text editor for you. Common ones include vi, macvim, and emacs. This will allow you to quickly edit scripts as well as your bashrc/bash_profile files.\n",
    "\n",
    "To start a new file, just type vi and then the new filename. If you type in a name that already exists, it will open that file. Since we aren't going to write any input files today, let's just edit your bashrc and create a simple alias.\n",
    "\n",
    "To create an alias, the syntax is the following:\n",
    "\n",
    "    alias adobe='open -a Adobe\\ Acrobat\\ Reader'\n",
    "    \n",
    "and you'll want that to go in your bashrc file, which you can access by typing vi ~/.bashrc and writing this command. To begin typing in vi, press the \"i\" key (for insert). When you're done typing, press ESC to exit insert mode. And then type :wq+ENTER to save (w) and quit (q) the file.\n",
    "    \n",
    "If you ever want to open a program from the terminal the long way, you just write open -a program_name. If the program has spaces in it, you'll want to indicate that with a backslash after each word that has a space after it. An alias takes away the tedium of writing out long commands, and it just means that when you write the alias command, it will carry out the longer one you've created a shortcut for.\n",
    "\n",
    "Okay, that's all for vi for now. Let's briefly talk about copying and removing files.\n",
    "\n",
    "It's a good idea in research to make copies of files that you're going to manipulate for your analysis. To copy a file, type:\n",
    "\n",
    "    cp filename.txt filenamecopy.txt\n",
    "    \n",
    "You can also copy a file from another directory to a different directory. Let's create a dummy file just to get you used to moving it around.\n",
    "\n",
    "    cd\n",
    "    vi dummy.txt (:wq)\n",
    "    \n",
    "Let's try copying it into your research directory.\n",
    "\n",
    "    cd ut2017\n",
    "    cp ../dummy.txt .\n",
    "    \n",
    "So that means go to the directory above me and copy dummy.txt here.\n",
    "\n",
    "To delete the file, use rm. *BE CAREFUL WITH RM!!* Removing a single file is pretty harmless, like so:\n",
    "\n",
    "    rm dummy.txt\n",
    "    \n",
    "Gone! But to delete a directory and all its contents, you'll type:\n",
    "\n",
    "    rm -rf directoryname\n",
    "    \n",
    "Be cautious! Don't delete directories that have data in them! \n",
    "\n",
    "Okay, you can go back home and delete dummy.txt. By the way, if you ever want to copy a directory and all its contents to another directory, you'll use cp -r.\n",
    "\n",
    "That's about all you need to know for basic command line navigation. \n",
    "\n",
    "    ls: list what's here\n",
    "    \n",
    "    cp: copy\n",
    "    \n",
    "    mv: move (also rename)\n",
    "    \n",
    "    rm: remove\n",
    "    \n",
    "    pwd: where am i\n",
    "    \n",
    "    du -sh: show files with their sizes in bytes\n",
    "    \n",
    "    vi: handy dandy txt editor\n",
    "    \n"
   ]
  },
  {
   "cell_type": "markdown",
   "metadata": {},
   "source": [
    "### Getting Started with Python: Part 0\n",
    "\n",
    "To run Python from the command line, just type: \n",
    "\n",
    "    ipython\n",
    "    \n",
    "To run the jupyter notebook, type:\n",
    "    \n",
    "    jupyter notebook\n",
    "    \n",
    "But you know that already because you're here. :)\n",
    "\n",
    "Last thing before the exercises, though: pip install. Python comes with a great many packages already installed, but occasionally there's something that doesn't come preloaded. Once something is installed in your Python path, you can import it to any script you want to use it in. \n",
    "\n",
    "You should already have astropy, but double check this by going to your terminal - outside this notebook and outside Python altogether - and typing:\n",
    "\n",
    "    pip install astropy\n",
    "    \n",
    "If you already have it, then it should say \"requirement already satisfied.\" If you don't have it, then it'll install for you. Once package you definitely don't have that you will need for these exercises is aplpy, so go ahead and do that again:\n",
    "\n",
    "    pip install aplpy\n",
    "  \n",
    "In the document I sent you, there is a list of useful packages you might need in astronomy.\n",
    "\n"
   ]
  },
  {
   "cell_type": "markdown",
   "metadata": {},
   "source": [
    "### Exercise 1: Arrays and Lists\n",
    "\n",
    "1. Create an array with 10 evenly spaced values in logspace ranging from 0.1 to 10,000.\n",
    "\n",
    "2. Print the following values: The third value in the array, the final value in the array, and the range of 5th-8th values.\n",
    "\n",
    "3. Append the numbers 10,001 and 10,002 (as floats) to the array.\n",
    "\n",
    "4. Divide your new array by 2.\n",
    "\n",
    "5. Reshape your array to be 3 x 4. \n",
    "\n",
    "6. Multiply your array by itself."
   ]
  },
  {
   "cell_type": "code",
   "execution_count": 11,
   "metadata": {
    "collapsed": true
   },
   "outputs": [],
   "source": [
    "# your work here"
   ]
  },
  {
   "cell_type": "markdown",
   "metadata": {},
   "source": [
    "### Exercise 2: If statements & for loops\n",
    "\n",
    "springsteen = ['Born to Run', 'Darkness on the Edge of Town', 'The River', 'Tunnel of Love', 'The Rising', 'Devils & Dust']\n",
    "\n",
    "Here's a list of a few albums by the Boss. Objectively, the best album is DoET. BtR and The River aren't bad either. The rest are unspeakable.\n",
    "\n",
    "Write a for loop that sorts the albums according to my correct opinion. Meaning, loop through each title and have your loop print a statement that says \"x album is the best,\" \"x album is pretty good\", and \"x album is terrible.\" Try to use compound statements.\n",
    "\n"
   ]
  },
  {
   "cell_type": "code",
   "execution_count": 13,
   "metadata": {
    "collapsed": true
   },
   "outputs": [],
   "source": [
    "# your work here"
   ]
  },
  {
   "cell_type": "markdown",
   "metadata": {},
   "source": [
    "### Exercise 3: For loops & arrays\n",
    "\n",
    "To create an empty list, just initialize it like so: emptylist = []\n",
    "\n",
    "Here is an array: np.array([ 4,  0,  6,  5, 11, 14, 12, 14,  5, 16])\n",
    "\n",
    "Write a for loop that checks if each of these numbers squared is less than 100. If it is, append the number to your new list using the .append attribute. Print out the list.\n",
    "\n",
    "Do this again, but this time append both the number and its square to your list, as a matrix entry. Print out the list again. Notice how it's in matrix format, but if you try to use .ndim, .size, or .shape, it will complain that it's a list. To convert it to a matrix, do np.asarray(listname). Now print out the size of the array.\n",
    "\n",
    "To make this more efficient, we can redo that part using np.zeros. Initialize a zero array with 2 columns and 10 rows. Write the same for loop but this time, set the i'th entry of the matrix to equal [number, its square]. "
   ]
  },
  {
   "cell_type": "code",
   "execution_count": 14,
   "metadata": {
    "collapsed": true
   },
   "outputs": [],
   "source": [
    "# your work here"
   ]
  },
  {
   "cell_type": "markdown",
   "metadata": {},
   "source": [
    "### Exercise 4: User-defined function\n",
    "\n",
    "Write a function that takes an array of numbers and spits out the Gaussian distribution. Yes, this is already built in to Python, but it's always good to know how to do these things from scratch. :)\n",
    "\n",
    "To refresh your memory, that's this equation:\n",
    "\n",
    "$$f(x) = \\frac{1}{\\sigma\\sqrt{2\\pi}} exp{\\frac{-(x-\\mu)^2}{2\\sigma^2}}$$\n",
    "\n",
    "\n",
    "Use the Normal distribution, so sigma=1 and mu=0. But! Make sure to define your function so that you can put mu and sigma in as arguments, and then when you run it just use 0 and 1. Hold on to this because we're gonna plot it in a sec.\n",
    "\n",
    "By the way, powers are written with a double asterisk, square roots require np.sqrt or just do double-asterisk(0.5), and the exponent can be written with np.exp. Keep track of your parentheses. Enjoy. :)\n",
    "\n"
   ]
  },
  {
   "cell_type": "code",
   "execution_count": null,
   "metadata": {
    "collapsed": true
   },
   "outputs": [],
   "source": [
    "# your work here "
   ]
  },
  {
   "cell_type": "markdown",
   "metadata": {},
   "source": [
    "### Excercise 5: Plotting functions\n",
    "\n",
    "Plot the above function. Label your axes, give it a title. Plot it with a green dashed line.\n",
    "\n",
    "Run your function for a couple of different values of mu or sigma and then plot them all together. For this, just write several lines with plt.plot(x, y) and then write plt.show() at the end. Differentiate them with different colors and linestyles and be sure to include a legend. Save your figure at the end."
   ]
  },
  {
   "cell_type": "code",
   "execution_count": 17,
   "metadata": {
    "collapsed": true
   },
   "outputs": [],
   "source": [
    "# your work here"
   ]
  },
  {
   "cell_type": "markdown",
   "metadata": {
    "collapsed": true
   },
   "source": [
    "### Exercise 6: Plotting histograms\n",
    "\n",
    "Overplot two Gaussian histograms. \n",
    "\n",
    "For the first distribution, give it a mean of 0 and a standard deviation of 2. Sample this at 10000 points and plot it in 50 bins. For the second distribution, give it a mean of 0 and a standard deviation of 1.5. \n",
    "\n",
    "Plot these histograms on the same plot, differentiating each by color, hatching and/or opacity, and normalize both. Fit both of them with a Gaussian curve. Be sure to label them (try it with the Greek!). Save your figure at the end."
   ]
  },
  {
   "cell_type": "code",
   "execution_count": 1,
   "metadata": {
    "collapsed": true
   },
   "outputs": [],
   "source": [
    "# your work here"
   ]
  },
  {
   "cell_type": "markdown",
   "metadata": {},
   "source": [
    "### Exercise 7: Plotting things that have units\n",
    "\n",
    "Write a function that takes an array of frequencies and spits out the Planck distribution. To refresh your memory, that's this equation:\n",
    "\n",
    "$$B(\\nu, T) = \\frac{2h\\nu^3/c^2}{e^\\frac{h\\nu}{k_BT} -1}$$\n",
    "\n",
    "Define the constants using what's loaded in astropy. Keep track of your units!\n"
   ]
  },
  {
   "cell_type": "code",
   "execution_count": null,
   "metadata": {
    "collapsed": true
   },
   "outputs": [],
   "source": [
    "# your work here"
   ]
  },
  {
   "cell_type": "markdown",
   "metadata": {},
   "source": [
    "## Day Two\n",
    "\n",
    "### Exercise 8: Showing Astronomical Images\n",
    "\n",
    "Load in the other two filters for M51. Plot all of these together for a multi-wavelength image. To draw them out, try using different colormaps (examples are cool, heat, rainbow, jet... see https://matplotlib.org/examples/color/colormaps_reference.html). You may also need to play with the opacity (alpha) to bring it out.\n",
    "\n",
    "Also, make overlapping histograms for the flux values.\n"
   ]
  },
  {
   "cell_type": "code",
   "execution_count": null,
   "metadata": {
    "collapsed": true
   },
   "outputs": [],
   "source": [
    "# your work here\n",
    "\n"
   ]
  }
 ],
 "metadata": {
  "anaconda-cloud": {},
  "kernelspec": {
   "display_name": "Python 3",
   "language": "python",
   "name": "python3"
  },
  "language_info": {
   "codemirror_mode": {
    "name": "ipython",
    "version": 3
   },
   "file_extension": ".py",
   "mimetype": "text/x-python",
   "name": "python",
   "nbconvert_exporter": "python",
   "pygments_lexer": "ipython3",
   "version": "3.5.3"
  }
 },
 "nbformat": 4,
 "nbformat_minor": 2
}
